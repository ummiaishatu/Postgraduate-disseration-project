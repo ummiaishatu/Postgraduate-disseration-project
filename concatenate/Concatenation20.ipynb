{
 "cells": [
  {
   "cell_type": "code",
   "source": "# Start writing code here...\nimport mne as mne\nimport numpy as np\nimport pandas as pd\nimport matplotlib.pyplot as plt\nimport scipy as scipy\nfrom scipy import interpolate\nimport glob\nimport os",
   "metadata": {
    "tags": [],
    "cell_id": "9f2a82e5-289c-471b-ab3c-38aec88900e8",
    "deepnote_to_be_reexecuted": false,
    "source_hash": "c1018183",
    "execution_start": 1662993263258,
    "execution_millis": 1465,
    "deepnote_cell_type": "code",
    "deepnote_cell_height": 220
   },
   "outputs": [],
   "execution_count": null
  },
  {
   "cell_type": "code",
   "source": "file1 = \"/work/Emotiv 30s EDF/S020/S020E01.edf\"\nS020E01 = mne.io.read_raw_edf(file1)\nheader = ','.join(S020E01.ch_names)\nnp.savetxt('/work/final-concatenation/S020/Training data/S020E01.csv', S020E01.get_data().T, delimiter=',', header=header)",
   "metadata": {
    "cell_id": "a3126d51948c4fadbce359177e17cfe0",
    "tags": [],
    "deepnote_to_be_reexecuted": false,
    "source_hash": "33899bc5",
    "execution_start": 1662993264761,
    "execution_millis": 644,
    "deepnote_cell_type": "code",
    "deepnote_cell_height": 221
   },
   "outputs": [
    {
     "name": "stdout",
     "text": "Extracting EDF parameters from /work/Emotiv 30s EDF/S020/S020E01.edf...\nEDF file detected\nSetting channel info structure...\nCreating raw.info structure...\n",
     "output_type": "stream"
    }
   ],
   "execution_count": null
  },
  {
   "cell_type": "code",
   "source": "file2 = \"/work/Emotiv 30s EDF/S020/S020E02.edf\"\nS020E02 = mne.io.read_raw_edf(file2)\nheader = ','.join(S020E02.ch_names)\nnp.savetxt('/work/final-concatenation/S020/Training data/S020E02.csv', S020E02.get_data().T, delimiter=',', header=header)",
   "metadata": {
    "cell_id": "0d5d668ca0ff4d51b5215ede5bb173f0",
    "tags": [],
    "deepnote_to_be_reexecuted": false,
    "source_hash": "1e59f75e",
    "execution_start": 1662993265412,
    "execution_millis": 679,
    "deepnote_cell_type": "code",
    "deepnote_cell_height": 221
   },
   "outputs": [
    {
     "name": "stdout",
     "text": "Extracting EDF parameters from /work/Emotiv 30s EDF/S020/S020E02.edf...\nEDF file detected\nSetting channel info structure...\nCreating raw.info structure...\n",
     "output_type": "stream"
    }
   ],
   "execution_count": null
  },
  {
   "cell_type": "code",
   "source": "file3 = \"/work/Emotiv 30s EDF/S020/S020E03.edf\"\nS020E03 = mne.io.read_raw_edf(file3)\nheader = ','.join(S020E03.ch_names)\nnp.savetxt('/work/final-concatenation/S020/Training data/S020E03.csv', S020E03.get_data().T, delimiter=',', header=header)",
   "metadata": {
    "cell_id": "9b26dba1dd7f4a6bbe6f4924b24b5fda",
    "tags": [],
    "deepnote_to_be_reexecuted": false,
    "source_hash": "94503546",
    "execution_start": 1662993266093,
    "execution_millis": 685,
    "deepnote_cell_type": "code",
    "deepnote_cell_height": 221
   },
   "outputs": [
    {
     "name": "stdout",
     "text": "Extracting EDF parameters from /work/Emotiv 30s EDF/S020/S020E03.edf...\nEDF file detected\nSetting channel info structure...\nCreating raw.info structure...\n",
     "output_type": "stream"
    }
   ],
   "execution_count": null
  },
  {
   "cell_type": "code",
   "source": "S020_Files = os.path.join(\"/work/final-concatenation/S020/Training data\", \"S020E0*.csv\")\nS020_List = glob.glob(S020_Files)\nMerge_S020 = pd.concat(map(pd.read_csv, S020_List), ignore_index=True)\nMerge_S020.to_csv(\"/work/final-concatenation/S020/Training data/S020-final-concat.csv\", index=False, encoding='utf-8-sig')",
   "metadata": {
    "cell_id": "c3b4ac35e8984d52b9106c2628870627",
    "tags": [],
    "deepnote_to_be_reexecuted": false,
    "source_hash": "67bd120e",
    "execution_start": 1662993266783,
    "execution_millis": 3639,
    "deepnote_cell_type": "code",
    "deepnote_cell_height": 130
   },
   "outputs": [],
   "execution_count": null
  },
  {
   "cell_type": "markdown",
   "source": "<a style='text-decoration:none;line-height:16px;display:flex;color:#5B5B62;padding:10px;justify-content:end;' href='https://deepnote.com?utm_source=created-in-deepnote-cell&projectId=cdcd7b7a-2caf-40ce-9cca-562e2f317a32' target=\"_blank\">\n<img alt='Created in deepnote.com' style='display:inline;max-height:16px;margin:0px;margin-right:7.5px;' src='data:image/svg+xml;base64,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' > </img>\nCreated in <span style='font-weight:600;margin-left:4px;'>Deepnote</span></a>",
   "metadata": {
    "tags": [],
    "created_in_deepnote_cell": true,
    "deepnote_cell_type": "markdown"
   }
  }
 ],
 "nbformat": 4,
 "nbformat_minor": 2,
 "metadata": {
  "orig_nbformat": 2,
  "deepnote": {},
  "deepnote_notebook_id": "a51e5411-81df-4c97-8590-d407f3511150",
  "deepnote_execution_queue": []
 }
}