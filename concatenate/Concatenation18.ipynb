{
 "cells": [
  {
   "cell_type": "code",
   "source": "# Start writing code here...\nimport mne as mne\nimport numpy as np\nimport pandas as pd\nimport matplotlib.pyplot as plt\nimport scipy as scipy\nfrom scipy import interpolate\nimport glob\nimport os",
   "metadata": {
    "tags": [],
    "cell_id": "a4cc2619-f750-4faa-b04c-7b91c73bc6b7",
    "deepnote_to_be_reexecuted": false,
    "source_hash": "c1018183",
    "execution_start": 1662992383655,
    "execution_millis": 1520,
    "deepnote_cell_type": "code",
    "deepnote_cell_height": 220
   },
   "outputs": [],
   "execution_count": null
  },
  {
   "cell_type": "code",
   "source": "file1 = \"/work/Emotiv 30s EDF/S018/S018E01.edf\"\nS018E01 = mne.io.read_raw_edf(file1)\nheader = ','.join(S018E01.ch_names)\nnp.savetxt('/work/final-concatenation/S018/Training data/S018E01.csv', S018E01.get_data().T, delimiter=',', header=header)",
   "metadata": {
    "cell_id": "e1a4603f22ae44b981a14ab9100aa810",
    "tags": [],
    "deepnote_to_be_reexecuted": false,
    "source_hash": "80574a06",
    "execution_start": 1662992385221,
    "execution_millis": 1258,
    "deepnote_cell_type": "code",
    "deepnote_cell_height": 226
   },
   "outputs": [
    {
     "name": "stdout",
     "text": "Extracting EDF parameters from /work/Emotiv 30s EDF/S018/S018E01.edf...\nEDF file detected\nSetting channel info structure...\nCreating raw.info structure...\n",
     "output_type": "stream"
    }
   ],
   "execution_count": null
  },
  {
   "cell_type": "code",
   "source": "file2 = \"/work/Emotiv 30s EDF/S018/S018E02.edf\"\nS018E02 = mne.io.read_raw_edf(file2)\nheader = ','.join(S018E02.ch_names)\nnp.savetxt('/work/final-concatenation/S018/Training data/S018E02.csv', S018E02.get_data().T, delimiter=',', header=header)",
   "metadata": {
    "cell_id": "5e60c46e605d43d5b0fe7804584e99c8",
    "tags": [],
    "deepnote_to_be_reexecuted": false,
    "source_hash": "cf5cd468",
    "execution_start": 1662992385853,
    "execution_millis": 673,
    "deepnote_cell_type": "code",
    "deepnote_cell_height": 226
   },
   "outputs": [
    {
     "name": "stdout",
     "text": "Extracting EDF parameters from /work/Emotiv 30s EDF/S018/S018E02.edf...\nEDF file detected\nSetting channel info structure...\nCreating raw.info structure...\n",
     "output_type": "stream"
    }
   ],
   "execution_count": null
  },
  {
   "cell_type": "code",
   "source": "file3 = \"/work/Emotiv 30s EDF/S018/S018E03.edf\"\nS018E03 = mne.io.read_raw_edf(file3)\nheader = ','.join(S018E03.ch_names)\nnp.savetxt('/work/final-concatenation/S018/Training data/S018E03.csv', S018E03.get_data().T, delimiter=',', header=header)\n",
   "metadata": {
    "cell_id": "3c0ee8ae2fd248dd8a5f4e56867f14a2",
    "tags": [],
    "deepnote_to_be_reexecuted": false,
    "source_hash": "b22aea4",
    "execution_start": 1662992386528,
    "execution_millis": 688,
    "deepnote_cell_type": "code",
    "deepnote_cell_height": 244
   },
   "outputs": [
    {
     "name": "stdout",
     "text": "Extracting EDF parameters from /work/Emotiv 30s EDF/S018/S018E03.edf...\nEDF file detected\nSetting channel info structure...\nCreating raw.info structure...\n",
     "output_type": "stream"
    }
   ],
   "execution_count": null
  },
  {
   "cell_type": "code",
   "source": "S018_Files = os.path.join(\"/work/final-concatenation/S018/Training data\", \"S018E0*.csv\")\nS018_List = glob.glob(S018_Files)\nMerge_S018 = pd.concat(map(pd.read_csv, S018_List), ignore_index=True)\nMerge_S018.to_csv(\"/work/final-concatenation/S018/Training data/S018-final-concat.csv\", index=False, encoding='utf-8-sig')",
   "metadata": {
    "cell_id": "e70067f156844d2db580dd82a808521c",
    "tags": [],
    "deepnote_to_be_reexecuted": false,
    "source_hash": "ad1071f2",
    "execution_start": 1662992387220,
    "execution_millis": 3605,
    "deepnote_cell_type": "code",
    "deepnote_cell_height": 135
   },
   "outputs": [],
   "execution_count": null
  },
  {
   "cell_type": "markdown",
   "source": "<a style='text-decoration:none;line-height:16px;display:flex;color:#5B5B62;padding:10px;justify-content:end;' href='https://deepnote.com?utm_source=created-in-deepnote-cell&projectId=cdcd7b7a-2caf-40ce-9cca-562e2f317a32' target=\"_blank\">\n<img alt='Created in deepnote.com' style='display:inline;max-height:16px;margin:0px;margin-right:7.5px;' src='data:image/svg+xml;base64,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' > </img>\nCreated in <span style='font-weight:600;margin-left:4px;'>Deepnote</span></a>",
   "metadata": {
    "tags": [],
    "created_in_deepnote_cell": true,
    "deepnote_cell_type": "markdown"
   }
  }
 ],
 "nbformat": 4,
 "nbformat_minor": 2,
 "metadata": {
  "orig_nbformat": 2,
  "deepnote": {},
  "deepnote_notebook_id": "50fd8b24-05bf-4cba-b76b-a113b57252c5",
  "deepnote_execution_queue": []
 }
}