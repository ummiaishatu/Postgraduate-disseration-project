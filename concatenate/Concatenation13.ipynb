{
 "cells": [
  {
   "cell_type": "code",
   "source": "# Start writing code here...\nimport mne as mne\nimport numpy as np\nimport pandas as pd\nimport matplotlib.pyplot as plt\nimport scipy as scipy\nfrom scipy import interpolate\nimport glob\nimport os",
   "metadata": {
    "tags": [],
    "cell_id": "aea934dd-fdaf-4813-9af9-31961535a94f",
    "deepnote_to_be_reexecuted": false,
    "source_hash": "c1018183",
    "execution_start": 1662990556370,
    "execution_millis": 1505,
    "deepnote_cell_type": "code",
    "deepnote_cell_height": 220
   },
   "outputs": [],
   "execution_count": null
  },
  {
   "cell_type": "code",
   "source": "file1 = \"/work/Emotiv 30s EDF/S013/S013E01.edf\"\nS013E01 = mne.io.read_raw_edf(file1)\nheader = ','.join(S013E01.ch_names)\nnp.savetxt('/work/final-concatenation/S013/Training data/S013E01.csv', S013E01.get_data().T, delimiter=',', header=header)",
   "metadata": {
    "cell_id": "110a0e9908f84f5b8d96767c214c6a86",
    "tags": [],
    "deepnote_to_be_reexecuted": false,
    "source_hash": "e942f70",
    "execution_start": 1662990557921,
    "execution_millis": 649,
    "deepnote_cell_type": "code",
    "deepnote_cell_height": 226
   },
   "outputs": [
    {
     "name": "stdout",
     "text": "Extracting EDF parameters from /work/Emotiv 30s EDF/S013/S013E01.edf...\nEDF file detected\nSetting channel info structure...\nCreating raw.info structure...\n",
     "output_type": "stream"
    }
   ],
   "execution_count": null
  },
  {
   "cell_type": "code",
   "source": "file2 = \"/work/Emotiv 30s EDF/S013/S013E02.edf\"\nS013E02 = mne.io.read_raw_edf(file2)\nheader = ','.join(S013E02.ch_names)\nnp.savetxt('/work/final-concatenation/S013/Training data/S013E02.csv', S013E02.get_data().T, delimiter=',', header=header)",
   "metadata": {
    "cell_id": "0e5bccc06146442a8f9a7bf580b82674",
    "tags": [],
    "deepnote_to_be_reexecuted": false,
    "source_hash": "7caa75e9",
    "execution_start": 1662990558575,
    "execution_millis": 702,
    "deepnote_cell_type": "code",
    "deepnote_cell_height": 226
   },
   "outputs": [
    {
     "name": "stdout",
     "text": "Extracting EDF parameters from /work/Emotiv 30s EDF/S013/S013E02.edf...\nEDF file detected\nSetting channel info structure...\nCreating raw.info structure...\n",
     "output_type": "stream"
    }
   ],
   "execution_count": null
  },
  {
   "cell_type": "code",
   "source": "file3 = \"/work/Emotiv 30s EDF/S013/S013E03.edf\"\nS013E03 = mne.io.read_raw_edf(file3)\nheader = ','.join(S013E03.ch_names)\nnp.savetxt('/work/final-concatenation/S013/Training data/S013E03.csv', S013E03.get_data().T, delimiter=',', header=header)",
   "metadata": {
    "cell_id": "1ce418dde6e44322aafbea182d1372ee",
    "tags": [],
    "deepnote_to_be_reexecuted": false,
    "source_hash": "73b3ca6e",
    "execution_start": 1662990559285,
    "execution_millis": 705,
    "deepnote_cell_type": "code",
    "deepnote_cell_height": 226
   },
   "outputs": [
    {
     "name": "stdout",
     "text": "Extracting EDF parameters from /work/Emotiv 30s EDF/S013/S013E03.edf...\nEDF file detected\nSetting channel info structure...\nCreating raw.info structure...\n",
     "output_type": "stream"
    }
   ],
   "execution_count": null
  },
  {
   "cell_type": "code",
   "source": "S013_Files = os.path.join(\"/work/final-concatenation/S013/Training data\", \"S013E0*.csv\")\nS013_List = glob.glob(S013_Files)\nMerge_S013 = pd.concat(map(pd.read_csv, S013_List), ignore_index=True)\nMerge_S013.to_csv(\"/work/final-concatenation/S013/Training data/S013-final-concat.csv\", index=False, encoding='utf-8-sig')",
   "metadata": {
    "cell_id": "760eae5e72b64ae7ab6634b7a91632f7",
    "tags": [],
    "deepnote_to_be_reexecuted": false,
    "source_hash": "111f1f5a",
    "execution_start": 1662990559990,
    "execution_millis": 3611,
    "deepnote_cell_type": "code",
    "deepnote_cell_height": 135
   },
   "outputs": [],
   "execution_count": null
  },
  {
   "cell_type": "markdown",
   "source": "<a style='text-decoration:none;line-height:16px;display:flex;color:#5B5B62;padding:10px;justify-content:end;' href='https://deepnote.com?utm_source=created-in-deepnote-cell&projectId=cdcd7b7a-2caf-40ce-9cca-562e2f317a32' target=\"_blank\">\n<img alt='Created in deepnote.com' style='display:inline;max-height:16px;margin:0px;margin-right:7.5px;' src='data:image/svg+xml;base64,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' > </img>\nCreated in <span style='font-weight:600;margin-left:4px;'>Deepnote</span></a>",
   "metadata": {
    "tags": [],
    "created_in_deepnote_cell": true,
    "deepnote_cell_type": "markdown"
   }
  }
 ],
 "nbformat": 4,
 "nbformat_minor": 2,
 "metadata": {
  "orig_nbformat": 2,
  "deepnote": {},
  "deepnote_notebook_id": "3328af85-4f3c-4eb0-9f32-43ba10c2561d",
  "deepnote_execution_queue": []
 }
}