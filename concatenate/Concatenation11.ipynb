{
 "cells": [
  {
   "cell_type": "code",
   "source": "import mne as mne\nimport numpy as np\nimport pandas as pd\nimport matplotlib.pyplot as plt\nimport scipy as scipy\nfrom scipy import interpolate\nimport glob\nimport os",
   "metadata": {
    "cell_id": "c3bf82bb-b103-469c-a430-b48f94f4719d",
    "deepnote_to_be_reexecuted": false,
    "source_hash": "2ff19516",
    "execution_start": 1662989547346,
    "execution_millis": 1633,
    "deepnote_cell_type": "code",
    "deepnote_cell_height": 202
   },
   "outputs": [],
   "execution_count": null
  },
  {
   "cell_type": "code",
   "source": "file1 = \"/work/Emotiv 30s EDF/S011/S011E01.edf\"\nS011E01 = mne.io.read_raw_edf(file1)\nheader = ','.join(S011E01.ch_names)\nnp.savetxt('/work/final-concatenation/S011/Training data/S011E01.csv', S011E01.get_data().T, delimiter=',', header=header)",
   "metadata": {
    "cell_id": "00001-d4f7fcea-30ed-4ae1-9d6b-0564edd04ca1",
    "deepnote_to_be_reexecuted": false,
    "source_hash": "4d8698a",
    "execution_start": 1662989548984,
    "execution_millis": 683,
    "deepnote_cell_type": "code",
    "deepnote_cell_height": 226
   },
   "outputs": [
    {
     "name": "stdout",
     "text": "Extracting EDF parameters from /work/Emotiv 30s EDF/S011/S011E01.edf...\nEDF file detected\nSetting channel info structure...\nCreating raw.info structure...\n",
     "output_type": "stream"
    }
   ],
   "execution_count": null
  },
  {
   "cell_type": "code",
   "source": "file2 = \"/work/Emotiv 30s EDF/S011/S011E02.edf\"\nS011E02 = mne.io.read_raw_edf(file2)\nheader = ','.join(S011E02.ch_names)\nnp.savetxt('/work/final-concatenation/S011/Training data/S011E02.csv', S011E02.get_data().T, delimiter=',', header=header)",
   "metadata": {
    "cell_id": "00002-ed434094-4489-4adb-bb79-2eb082a8ab47",
    "deepnote_to_be_reexecuted": false,
    "source_hash": "dcc850c2",
    "execution_start": 1662989549672,
    "execution_millis": 673,
    "deepnote_cell_type": "code",
    "deepnote_cell_height": 286
   },
   "outputs": [
    {
     "name": "stdout",
     "text": "Extracting EDF parameters from /work/Emotiv 30s EDF/S011/S011E02.edf...\nEDF file detected\nSetting channel info structure...\nCreating raw.info structure...\n/tmp/ipykernel_99/1544900568.py:2: RuntimeWarning: Physical range is not defined in following channels:\nP8\n  S011E02 = mne.io.read_raw_edf(file2)\n",
     "output_type": "stream"
    }
   ],
   "execution_count": null
  },
  {
   "cell_type": "code",
   "source": "file3 = \"/work/Emotiv 30s EDF/S011/S011E03.edf\"\nS011E03 = mne.io.read_raw_edf(file3)\nheader = ','.join(S011E03.ch_names)\nnp.savetxt('/work/final-concatenation/S011/Training data/S011E03.csv', S011E03.get_data().T, delimiter=',', header=header)",
   "metadata": {
    "cell_id": "00003-5e7f11dd-c7c6-41b3-bb72-a362664f62e0",
    "deepnote_to_be_reexecuted": false,
    "source_hash": "8ef408b9",
    "execution_start": 1662989550348,
    "execution_millis": 666,
    "deepnote_cell_type": "code",
    "deepnote_cell_height": 286
   },
   "outputs": [
    {
     "name": "stdout",
     "text": "Extracting EDF parameters from /work/Emotiv 30s EDF/S011/S011E03.edf...\nEDF file detected\nSetting channel info structure...\nCreating raw.info structure...\n/tmp/ipykernel_99/3371442544.py:2: RuntimeWarning: Physical range is not defined in following channels:\nP8\n  S011E03 = mne.io.read_raw_edf(file3)\n",
     "output_type": "stream"
    }
   ],
   "execution_count": null
  },
  {
   "cell_type": "code",
   "source": "S011_Files = os.path.join(\"/work/final-concatenation/S011/Training data\", \"S011E0*.csv\")\nS011_List = glob.glob(S011_Files)\nMerge_S011 = pd.concat(map(pd.read_csv, S011_List), ignore_index=True)\nMerge_S011.to_csv(\"/work/final-concatenation/S011/Training data/S011-final-concat.csv\", index=False, encoding='utf-8-sig')",
   "metadata": {
    "cell_id": "00004-55fe945e-122f-4e95-9e42-317cc2524807",
    "deepnote_to_be_reexecuted": false,
    "source_hash": "17ac210",
    "execution_start": 1662989646764,
    "execution_millis": 3482,
    "deepnote_cell_type": "code",
    "deepnote_cell_height": 135
   },
   "outputs": [],
   "execution_count": null
  },
  {
   "cell_type": "code",
   "metadata": {
    "cell_id": "00005-76e49ddd-fe2d-4843-9733-c7bcc7c0d2ca",
    "deepnote_to_be_reexecuted": true,
    "source_hash": "b623e53d",
    "deepnote_cell_type": "code",
    "deepnote_cell_height": 76
   },
   "source": "",
   "execution_count": null,
   "outputs": []
  },
  {
   "cell_type": "code",
   "metadata": {
    "cell_id": "00006-559c8fae-e7cf-4268-956a-28fcc0b0c3c6",
    "deepnote_to_be_reexecuted": true,
    "source_hash": "b623e53d",
    "deepnote_cell_type": "code",
    "deepnote_cell_height": 76
   },
   "source": "",
   "execution_count": null,
   "outputs": []
  },
  {
   "cell_type": "markdown",
   "source": "<a style='text-decoration:none;line-height:16px;display:flex;color:#5B5B62;padding:10px;justify-content:end;' href='https://deepnote.com?utm_source=created-in-deepnote-cell&projectId=cdcd7b7a-2caf-40ce-9cca-562e2f317a32' target=\"_blank\">\n<img alt='Created in deepnote.com' style='display:inline;max-height:16px;margin:0px;margin-right:7.5px;' src='data:image/svg+xml;base64,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' > </img>\nCreated in <span style='font-weight:600;margin-left:4px;'>Deepnote</span></a>",
   "metadata": {
    "tags": [],
    "created_in_deepnote_cell": true,
    "deepnote_cell_type": "markdown"
   }
  }
 ],
 "nbformat": 4,
 "nbformat_minor": 2,
 "metadata": {
  "kernelspec": {
   "display_name": "Python 3.8.6 64-bit",
   "language": "python",
   "name": "python3"
  },
  "language_info": {
   "codemirror_mode": {
    "name": "ipython",
    "version": 3
   },
   "file_extension": ".py",
   "mimetype": "text/x-python",
   "name": "python",
   "nbconvert_exporter": "python",
   "pygments_lexer": "ipython3",
   "version": "3.8.6"
  },
  "orig_nbformat": 4,
  "vscode": {
   "interpreter": {
    "hash": "aee8b7b246df8f9039afb4144a1f6fd8d2ca17a180786b69acc140d282b71a49"
   }
  },
  "deepnote_notebook_id": "2971a325-825c-4249-961f-fe69d3b93ffc",
  "deepnote": {},
  "deepnote_execution_queue": []
 }
}