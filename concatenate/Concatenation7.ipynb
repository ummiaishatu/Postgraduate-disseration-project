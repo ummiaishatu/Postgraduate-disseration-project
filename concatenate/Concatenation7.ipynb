{
 "cells": [
  {
   "cell_type": "code",
   "metadata": {
    "cell_id": "f9e2502b-89c8-4da6-9de8-67254c73847d",
    "deepnote_to_be_reexecuted": false,
    "source_hash": "be9087a2",
    "execution_start": 1660595671737,
    "execution_millis": 1620,
    "deepnote_cell_type": "code",
    "deepnote_cell_height": 220
   },
   "source": "import mne as mne\nimport numpy as np\nimport pandas as pd\nimport matplotlib.pyplot as plt\nimport scipy \nfrom scipy import interpolate\nfrom scipy.interpolate import interp1d\nimport glob\nimport os",
   "outputs": [],
   "execution_count": null
  },
  {
   "cell_type": "code",
   "source": "file1 = \"/work/Emotiv 30s EDF/S007/S007E01.edf\"\nS007E01 = mne.io.read_raw_edf(file1)\nheader = ','.join(S007E01.ch_names)\nnp.savetxt('/work/Emotiv 30s CSV/S007/S007E01.csv', S007E01.get_data().T, delimiter=',', header=header)",
   "metadata": {
    "cell_id": "00001-0fbb75cc-e769-4fe9-af56-d9b96da61c05",
    "deepnote_to_be_reexecuted": false,
    "source_hash": "fa06eb2d",
    "execution_start": 1660595673368,
    "execution_millis": 761,
    "deepnote_cell_type": "code",
    "deepnote_cell_height": 226
   },
   "outputs": [
    {
     "name": "stdout",
     "text": "Extracting EDF parameters from /work/Emotiv 30s EDF/S007/S007E01.edf...\nEDF file detected\nSetting channel info structure...\nCreating raw.info structure...\n",
     "output_type": "stream"
    }
   ],
   "execution_count": null
  },
  {
   "cell_type": "code",
   "source": "file2 = \"/work/Emotiv 30s EDF/S007/S007E02.edf\"\nS007E02 = mne.io.read_raw_edf(file2)\nheader = ','.join(S007E02.ch_names)\nnp.savetxt('/work/Emotiv 30s CSV/S007/S007E02.csv', S007E02.get_data().T, delimiter=',', header=header)",
   "metadata": {
    "cell_id": "00002-aacffcb4-992c-4b84-b7ba-1e792696e3e2",
    "deepnote_to_be_reexecuted": false,
    "source_hash": "8f1d42f4",
    "execution_start": 1660595674135,
    "execution_millis": 652,
    "deepnote_cell_type": "code",
    "deepnote_cell_height": 226
   },
   "outputs": [
    {
     "name": "stdout",
     "text": "Extracting EDF parameters from /work/Emotiv 30s EDF/S007/S007E02.edf...\nEDF file detected\nSetting channel info structure...\nCreating raw.info structure...\n",
     "output_type": "stream"
    }
   ],
   "execution_count": null
  },
  {
   "cell_type": "code",
   "source": "file3 = \"/work/Emotiv 30s EDF/S007/S007E03.edf\"\nS007E03 = mne.io.read_raw_edf(file3)\nheader = ','.join(S007E03.ch_names)\nnp.savetxt('/work/Emotiv 30s CSV/S007/S007E03.csv', S007E03.get_data().T, delimiter=',', header=header)",
   "metadata": {
    "cell_id": "00003-e7940127-304e-4771-9991-ccb298c87fae",
    "deepnote_to_be_reexecuted": false,
    "source_hash": "b9947b67",
    "execution_start": 1660595674794,
    "execution_millis": 813,
    "deepnote_cell_type": "code",
    "deepnote_cell_height": 226
   },
   "outputs": [
    {
     "name": "stdout",
     "text": "Extracting EDF parameters from /work/Emotiv 30s EDF/S007/S007E03.edf...\nEDF file detected\nSetting channel info structure...\nCreating raw.info structure...\n",
     "output_type": "stream"
    }
   ],
   "execution_count": null
  },
  {
   "cell_type": "code",
   "source": "S007_Files = os.path.join(\"/work/Emotiv 30s CSV/S007\", \"S007E0*.csv\")\nS007_List = glob.glob(S007_Files)\nMerge_S007 = pd.concat(map(pd.read_csv, S007_List), ignore_index=True)\nMerge_S007.to_csv(\"/work/final-concatenation-review/S007/Training data/S007-final-concat.csv\", index=False, encoding='utf-8-sig')",
   "metadata": {
    "cell_id": "00005-85499417-ca0b-4122-a016-7e852f7fe9a4",
    "deepnote_to_be_reexecuted": false,
    "source_hash": "188d116d",
    "execution_start": 1660595675612,
    "execution_millis": 4001,
    "deepnote_cell_type": "code",
    "deepnote_cell_height": 135
   },
   "outputs": [],
   "execution_count": null
  },
  {
   "cell_type": "code",
   "metadata": {
    "cell_id": "00006-03967324-f8a1-4e0c-956d-ee6880727856",
    "deepnote_to_be_reexecuted": false,
    "source_hash": "b623e53d",
    "execution_start": 1660595679615,
    "execution_millis": 0,
    "deepnote_cell_type": "code",
    "deepnote_cell_height": 76
   },
   "source": "",
   "outputs": [],
   "execution_count": null
  },
  {
   "cell_type": "markdown",
   "source": "<a style='text-decoration:none;line-height:16px;display:flex;color:#5B5B62;padding:10px;justify-content:end;' href='https://deepnote.com?utm_source=created-in-deepnote-cell&projectId=cdcd7b7a-2caf-40ce-9cca-562e2f317a32' target=\"_blank\">\n<img alt='Created in deepnote.com' style='display:inline;max-height:16px;margin:0px;margin-right:7.5px;' src='data:image/svg+xml;base64,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' > </img>\nCreated in <span style='font-weight:600;margin-left:4px;'>Deepnote</span></a>",
   "metadata": {
    "tags": [],
    "created_in_deepnote_cell": true,
    "deepnote_cell_type": "markdown"
   }
  }
 ],
 "nbformat": 4,
 "nbformat_minor": 5,
 "metadata": {
  "kernelspec": {
   "display_name": "Python 3 (ipykernel)",
   "language": "python",
   "name": "python3"
  },
  "language_info": {
   "codemirror_mode": {
    "name": "ipython",
    "version": 3
   },
   "file_extension": ".py",
   "mimetype": "text/x-python",
   "name": "python",
   "nbconvert_exporter": "python",
   "pygments_lexer": "ipython3",
   "version": "3.8.6"
  },
  "deepnote_notebook_id": "325910b3-94e9-4d6d-8f1f-154797b0b292",
  "deepnote": {},
  "deepnote_execution_queue": []
 }
}