{
 "cells": [
  {
   "cell_type": "code",
   "metadata": {
    "cell_id": "5cb35214-bbf7-454e-a23e-3ec4162330c1",
    "deepnote_to_be_reexecuted": false,
    "source_hash": "be9087a2",
    "execution_start": 1660595408501,
    "execution_millis": 1491,
    "deepnote_cell_type": "code",
    "deepnote_cell_height": 220.65625
   },
   "source": "import mne as mne\nimport numpy as np\nimport pandas as pd\nimport matplotlib.pyplot as plt\nimport scipy \nfrom scipy import interpolate\nfrom scipy.interpolate import interp1d\nimport glob\nimport os",
   "execution_count": null,
   "outputs": []
  },
  {
   "cell_type": "code",
   "metadata": {
    "cell_id": "00001-09d69030-7c14-492c-b41e-5170e61c71e3",
    "deepnote_to_be_reexecuted": false,
    "source_hash": "d76407a5",
    "execution_start": 1660595410004,
    "execution_millis": 674,
    "deepnote_cell_type": "code",
    "deepnote_cell_height": 221.65625
   },
   "source": "file1 = \"/work/Emotiv 30s EDF/S004/S004E01.edf\"\nS004E01 = mne.io.read_raw_edf(file1)\nheader = ','.join(S004E01.ch_names)\nnp.savetxt('/work/Emotiv 30s CSV/S004/S004E01.csv', S004E01.get_data().T, delimiter=',', header=header)",
   "execution_count": null,
   "outputs": [
    {
     "name": "stdout",
     "text": "Extracting EDF parameters from /work/Emotiv 30s EDF/S004/S004E01.edf...\nEDF file detected\nSetting channel info structure...\nCreating raw.info structure...\n",
     "output_type": "stream"
    }
   ]
  },
  {
   "cell_type": "code",
   "metadata": {
    "cell_id": "00002-0b6459dc-420a-40d0-aee2-101a0d299570",
    "deepnote_to_be_reexecuted": false,
    "source_hash": "9dec8fd5",
    "execution_start": 1660595410682,
    "execution_millis": 770,
    "deepnote_cell_type": "code",
    "deepnote_cell_height": 221.65625
   },
   "source": "file2 = \"/work/Emotiv 30s EDF/S004/S004E02.edf\"\nS004E02 = mne.io.read_raw_edf(file2)\nheader = ','.join(S004E02.ch_names)\nnp.savetxt('/work/Emotiv 30s CSV/S004/S004E02.csv', S004E02.get_data().T, delimiter=',', header=header)",
   "execution_count": null,
   "outputs": [
    {
     "name": "stdout",
     "text": "Extracting EDF parameters from /work/Emotiv 30s EDF/S004/S004E02.edf...\nEDF file detected\nSetting channel info structure...\nCreating raw.info structure...\n",
     "output_type": "stream"
    }
   ]
  },
  {
   "cell_type": "code",
   "metadata": {
    "cell_id": "00003-c695d9c9-3ae6-4ffd-bde5-becde3de4fcd",
    "deepnote_to_be_reexecuted": false,
    "source_hash": "630f414c",
    "execution_start": 1660595411463,
    "execution_millis": 810,
    "deepnote_cell_type": "code",
    "deepnote_cell_height": 314.328125
   },
   "source": "#fix the runtime error\nfile3 = \"/work/Emotiv 30s EDF/S004/S004E03.edf\"\nS004E03 = mne.io.read_raw_edf(file3, preload=True, verbose='DEBUG')\nheader = ','.join(S004E03.ch_names)\nnp.savetxt('/work/Emotiv 30s CSV/S004/S004E03.csv', S004E03.get_data().T, delimiter=',', header=header)",
   "execution_count": null,
   "outputs": [
    {
     "name": "stdout",
     "text": "Extracting EDF parameters from /work/Emotiv 30s EDF/S004/S004E03.edf...\nEDF file detected\nSetting channel info structure...\nCreating raw.info structure...\nReading 0 ... 46079  =      0.000 ...   179.996 secs...\n/tmp/ipykernel_547/482517405.py:3: RuntimeWarning: Physical range is not defined in following channels:\nP8\n  S004E03 = mne.io.read_raw_edf(file3, preload=True, verbose='DEBUG')\n",
     "output_type": "stream"
    }
   ]
  },
  {
   "cell_type": "code",
   "metadata": {
    "cell_id": "00005-91a6a466-c449-4d48-8a1b-00629ea14b4f",
    "deepnote_to_be_reexecuted": false,
    "source_hash": "e0777666",
    "execution_start": 1660595412283,
    "execution_millis": 4116,
    "deepnote_cell_type": "code",
    "deepnote_cell_height": 135.65625
   },
   "source": "S004_Files = os.path.join(\"/work/Emotiv 30s CSV/S004\", \"S004E0*.csv\")\nS004_List = glob.glob(S004_Files)\nMerge_S004 = pd.concat(map(pd.read_csv, S004_List), ignore_index=True)\nMerge_S004.to_csv(\"/work/final-concatenation-review/S004/Training data/S004-final-concat.csv\", index=False, encoding='utf-8-sig')",
   "execution_count": null,
   "outputs": []
  },
  {
   "cell_type": "code",
   "metadata": {
    "cell_id": "00006-43e1ff09-81a7-45bc-9643-17841d53054a",
    "deepnote_to_be_reexecuted": false,
    "source_hash": "b623e53d",
    "execution_start": 1660595416406,
    "execution_millis": 2,
    "deepnote_cell_type": "code",
    "deepnote_cell_height": 76.65625
   },
   "source": "",
   "execution_count": null,
   "outputs": []
  },
  {
   "cell_type": "markdown",
   "source": "<a style='text-decoration:none;line-height:16px;display:flex;color:#5B5B62;padding:10px;justify-content:end;' href='https://deepnote.com?utm_source=created-in-deepnote-cell&projectId=cdcd7b7a-2caf-40ce-9cca-562e2f317a32' target=\"_blank\">\n<img alt='Created in deepnote.com' style='display:inline;max-height:16px;margin:0px;margin-right:7.5px;' src='data:image/svg+xml;base64,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' > </img>\nCreated in <span style='font-weight:600;margin-left:4px;'>Deepnote</span></a>",
   "metadata": {
    "tags": [],
    "created_in_deepnote_cell": true,
    "deepnote_cell_type": "markdown"
   }
  }
 ],
 "nbformat": 4,
 "nbformat_minor": 5,
 "metadata": {
  "kernelspec": {
   "display_name": "Python 3 (ipykernel)",
   "language": "python",
   "name": "python3"
  },
  "language_info": {
   "codemirror_mode": {
    "name": "ipython",
    "version": 3
   },
   "file_extension": ".py",
   "mimetype": "text/x-python",
   "name": "python",
   "nbconvert_exporter": "python",
   "pygments_lexer": "ipython3",
   "version": "3.8.6"
  },
  "deepnote_notebook_id": "d00fbbef-86a8-4823-8695-22b0643d9769",
  "deepnote": {},
  "deepnote_execution_queue": []
 }
}