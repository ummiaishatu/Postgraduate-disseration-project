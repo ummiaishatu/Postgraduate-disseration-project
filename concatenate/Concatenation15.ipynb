{
 "cells": [
  {
   "cell_type": "code",
   "source": "# Start writing code here...\nimport mne as mne\nimport numpy as np\nimport pandas as pd\nimport matplotlib.pyplot as plt\nimport scipy as scipy\nfrom scipy import interpolate\nimport glob\nimport os",
   "metadata": {
    "tags": [],
    "cell_id": "79203d6e-7b92-4583-a6a1-10904886e39c",
    "deepnote_to_be_reexecuted": false,
    "source_hash": "c1018183",
    "execution_start": 1662991605125,
    "execution_millis": 1366,
    "deepnote_cell_type": "code",
    "deepnote_cell_height": 220
   },
   "outputs": [],
   "execution_count": null
  },
  {
   "cell_type": "code",
   "source": "file1 = \"/work/Emotiv 30s EDF/S015/S015E01.edf\"\nS015E01 = mne.io.read_raw_edf(file1)\nheader = ','.join(S015E01.ch_names)\nnp.savetxt('/work/final-concatenation/S015/Training data/S015E01.csv', S015E01.get_data().T, delimiter=',', header=header)",
   "metadata": {
    "cell_id": "5fea6020d4dc403787ffdad46478d8ab",
    "tags": [],
    "deepnote_to_be_reexecuted": false,
    "source_hash": "dca91d0e",
    "execution_start": 1662991606496,
    "execution_millis": 647,
    "deepnote_cell_type": "code",
    "deepnote_cell_height": 286
   },
   "outputs": [
    {
     "name": "stdout",
     "text": "Extracting EDF parameters from /work/Emotiv 30s EDF/S015/S015E01.edf...\nEDF file detected\nSetting channel info structure...\nCreating raw.info structure...\n/tmp/ipykernel_638/223786547.py:2: RuntimeWarning: Physical range is not defined in following channels:\nP8\n  S015E01 = mne.io.read_raw_edf(file1)\n",
     "output_type": "stream"
    }
   ],
   "execution_count": null
  },
  {
   "cell_type": "code",
   "source": "file2 = \"/work/Emotiv 30s EDF/S015/S015E02.edf\"\nS015E02 = mne.io.read_raw_edf(file2)\nheader = ','.join(S015E02.ch_names)\nnp.savetxt('/work/final-concatenation/S015/Training data/S015E02.csv', S015E02.get_data().T, delimiter=',', header=header)",
   "metadata": {
    "cell_id": "38723c55b2024e21a804d5e9065a95d2",
    "tags": [],
    "deepnote_to_be_reexecuted": false,
    "source_hash": "70caab91",
    "execution_start": 1662991607147,
    "execution_millis": 647,
    "deepnote_cell_type": "code",
    "deepnote_cell_height": 120
   },
   "outputs": [
    {
     "name": "stdout",
     "text": "Extracting EDF parameters from /work/Emotiv 30s EDF/S015/S015E02.edf...\nEDF file detected\nSetting channel info structure...\nCreating raw.info structure...\n/tmp/ipykernel_638/3006004022.py:2: RuntimeWarning: Physical range is not defined in following channels:\nP8\n  S015E02 = mne.io.read_raw_edf(file2)\n",
     "output_type": "stream"
    }
   ],
   "execution_count": null
  },
  {
   "cell_type": "code",
   "source": "file3 = \"/work/Emotiv 30s EDF/S015/S015E03.edf\"\nS015E03 = mne.io.read_raw_edf(file3)\nheader = ','.join(S015E03.ch_names)\nnp.savetxt('/work/final-concatenation/S015/Training data/S015E03.csv', S015E03.get_data().T, delimiter=',', header=header)",
   "metadata": {
    "cell_id": "f2fb263a0cd1438b8faf29164058d8f9",
    "tags": [],
    "deepnote_to_be_reexecuted": false,
    "source_hash": "ae00e668",
    "execution_start": 1662991607797,
    "execution_millis": 658,
    "deepnote_cell_type": "code",
    "deepnote_cell_height": 120
   },
   "outputs": [
    {
     "name": "stdout",
     "text": "Extracting EDF parameters from /work/Emotiv 30s EDF/S015/S015E03.edf...\nEDF file detected\nSetting channel info structure...\nCreating raw.info structure...\n",
     "output_type": "stream"
    }
   ],
   "execution_count": null
  },
  {
   "cell_type": "code",
   "source": "S015_Files = os.path.join(\"/work/final-concatenation/S015/Training data\", \"S015E0*.csv\")\nS015_List = glob.glob(S015_Files)\nMerge_S015 = pd.concat(map(pd.read_csv, S015_List), ignore_index=True)\nMerge_S015.to_csv(\"/work/final-concatenation/S015/Training data/S015-final-concat.csv\", index=False, encoding='utf-8-sig')",
   "metadata": {
    "cell_id": "9be346a8f0bb465fbb10f5b91ba8282c",
    "tags": [],
    "deepnote_to_be_reexecuted": false,
    "source_hash": "2dd48669",
    "execution_start": 1662991608458,
    "execution_millis": 3408,
    "deepnote_cell_type": "code",
    "deepnote_cell_height": 120
   },
   "outputs": [],
   "execution_count": null
  },
  {
   "cell_type": "markdown",
   "source": "<a style='text-decoration:none;line-height:16px;display:flex;color:#5B5B62;padding:10px;justify-content:end;' href='https://deepnote.com?utm_source=created-in-deepnote-cell&projectId=cdcd7b7a-2caf-40ce-9cca-562e2f317a32' target=\"_blank\">\n<img alt='Created in deepnote.com' style='display:inline;max-height:16px;margin:0px;margin-right:7.5px;' src='data:image/svg+xml;base64,PD94bWwgdmVyc2lvbj0iMS4wIiBlbmNvZGluZz0iVVRGLTgiPz4KPHN2ZyB3aWR0aD0iODBweCIgaGVpZ2h0PSI4MHB4IiB2aWV3Qm94PSIwIDAgODAgODAiIHZlcnNpb249IjEuMSIgeG1sbnM9Imh0dHA6Ly93d3cudzMub3JnLzIwMDAvc3ZnIiB4bWxuczp4bGluaz0iaHR0cDovL3d3dy53My5vcmcvMTk5OS94bGluayI+CiAgICA8IS0tIEdlbmVyYXRvcjogU2tldGNoIDU0LjEgKDc2NDkwKSAtIGh0dHBzOi8vc2tldGNoYXBwLmNvbSAtLT4KICAgIDx0aXRsZT5Hcm91cCAzPC90aXRsZT4KICAgIDxkZXNjPkNyZWF0ZWQgd2l0aCBTa2V0Y2guPC9kZXNjPgogICAgPGcgaWQ9IkxhbmRpbmciIHN0cm9rZT0ibm9uZSIgc3Ryb2tlLXdpZHRoPSIxIiBmaWxsPSJub25lIiBmaWxsLXJ1bGU9ImV2ZW5vZGQiPgogICAgICAgIDxnIGlkPSJBcnRib2FyZCIgdHJhbnNmb3JtPSJ0cmFuc2xhdGUoLTEyMzUuMDAwMDAwLCAtNzkuMDAwMDAwKSI+CiAgICAgICAgICAgIDxnIGlkPSJHcm91cC0zIiB0cmFuc2Zvcm09InRyYW5zbGF0ZSgxMjM1LjAwMDAwMCwgNzkuMDAwMDAwKSI+CiAgICAgICAgICAgICAgICA8cG9seWdvbiBpZD0iUGF0aC0yMCIgZmlsbD0iIzAyNjVCNCIgcG9pbnRzPSIyLjM3NjIzNzYyIDgwIDM4LjA0NzY2NjcgODAgNTcuODIxNzgyMiA3My44MDU3NTkyIDU3LjgyMTc4MjIgMzIuNzU5MjczOSAzOS4xNDAyMjc4IDMxLjY4MzE2ODMiPjwvcG9seWdvbj4KICAgICAgICAgICAgICAgIDxwYXRoIGQ9Ik0zNS4wMDc3MTgsODAgQzQyLjkwNjIwMDcsNzYuNDU0OTM1OCA0Ny41NjQ5MTY3LDcxLjU0MjI2NzEgNDguOTgzODY2LDY1LjI2MTk5MzkgQzUxLjExMjI4OTksNTUuODQxNTg0MiA0MS42NzcxNzk1LDQ5LjIxMjIyODQgMjUuNjIzOTg0Niw0OS4yMTIyMjg0IEMyNS40ODQ5Mjg5LDQ5LjEyNjg0NDggMjkuODI2MTI5Niw0My4yODM4MjQ4IDM4LjY0NzU4NjksMzEuNjgzMTY4MyBMNzIuODcxMjg3MSwzMi41NTQ0MjUgTDY1LjI4MDk3Myw2Ny42NzYzNDIxIEw1MS4xMTIyODk5LDc3LjM3NjE0NCBMMzUuMDA3NzE4LDgwIFoiIGlkPSJQYXRoLTIyIiBmaWxsPSIjMDAyODY4Ij48L3BhdGg+CiAgICAgICAgICAgICAgICA8cGF0aCBkPSJNMCwzNy43MzA0NDA1IEwyNy4xMTQ1MzcsMC4yNTcxMTE0MzYgQzYyLjM3MTUxMjMsLTEuOTkwNzE3MDEgODAsMTAuNTAwMzkyNyA4MCwzNy43MzA0NDA1IEM4MCw2NC45NjA0ODgyIDY0Ljc3NjUwMzgsNzkuMDUwMzQxNCAzNC4zMjk1MTEzLDgwIEM0Ny4wNTUzNDg5LDc3LjU2NzA4MDggNTMuNDE4MjY3Nyw3MC4zMTM2MTAzIDUzLjQxODI2NzcsNTguMjM5NTg4NSBDNTMuNDE4MjY3Nyw0MC4xMjg1NTU3IDM2LjMwMzk1NDQsMzcuNzMwNDQwNSAyNS4yMjc0MTcsMzcuNzMwNDQwNSBDMTcuODQzMDU4NiwzNy43MzA0NDA1IDkuNDMzOTE5NjYsMzcuNzMwNDQwNSAwLDM3LjczMDQ0MDUgWiIgaWQ9IlBhdGgtMTkiIGZpbGw9IiMzNzkzRUYiPjwvcGF0aD4KICAgICAgICAgICAgPC9nPgogICAgICAgIDwvZz4KICAgIDwvZz4KPC9zdmc+' > </img>\nCreated in <span style='font-weight:600;margin-left:4px;'>Deepnote</span></a>",
   "metadata": {
    "tags": [],
    "created_in_deepnote_cell": true,
    "deepnote_cell_type": "markdown"
   }
  }
 ],
 "nbformat": 4,
 "nbformat_minor": 2,
 "metadata": {
  "orig_nbformat": 2,
  "deepnote": {},
  "deepnote_notebook_id": "4a60d855-5421-48d1-8931-7bc770d02402",
  "deepnote_execution_queue": []
 }
}