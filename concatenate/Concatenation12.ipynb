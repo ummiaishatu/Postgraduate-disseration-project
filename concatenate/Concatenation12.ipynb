{
 "cells": [
  {
   "cell_type": "code",
   "source": "import mne as mne\nimport numpy as np\nimport pandas as pd\nimport matplotlib.pyplot as plt\nimport scipy as scipy\nfrom scipy import interpolate\nimport glob\nimport os",
   "metadata": {
    "tags": [],
    "cell_id": "71aa5ff8-afc0-41b3-a6e8-3a208789805d",
    "deepnote_to_be_reexecuted": false,
    "source_hash": "2ff19516",
    "execution_start": 1662990076513,
    "execution_millis": 1416,
    "deepnote_cell_type": "code",
    "deepnote_cell_height": 202
   },
   "outputs": [],
   "execution_count": null
  },
  {
   "cell_type": "code",
   "source": "file1 = \"/work/Emotiv 30s EDF/S012/S012E01.edf\"\nS012E01 = mne.io.read_raw_edf(file1)\nheader = ','.join(S012E01.ch_names)\nnp.savetxt('/work/final-concatenation/S012/Training data/S012E01.csv', S012E01.get_data().T, delimiter=',', header=header)",
   "metadata": {
    "cell_id": "a594fe81f13840c6873fddeca2777af4",
    "tags": [],
    "deepnote_to_be_reexecuted": false,
    "source_hash": "7090e912",
    "execution_start": 1662990077973,
    "execution_millis": 749,
    "deepnote_cell_type": "code",
    "deepnote_cell_height": 226
   },
   "outputs": [
    {
     "name": "stdout",
     "text": "Extracting EDF parameters from /work/Emotiv 30s EDF/S012/S012E01.edf...\nEDF file detected\nSetting channel info structure...\nCreating raw.info structure...\n",
     "output_type": "stream"
    }
   ],
   "execution_count": null
  },
  {
   "cell_type": "code",
   "source": "file2 = \"/work/Emotiv 30s EDF/S012/S012E02.edf\"\nS012E02 = mne.io.read_raw_edf(file2)\nheader = ','.join(S012E02.ch_names)\nnp.savetxt('/work/final-concatenation/S012/Training data/S012E02.csv', S012E02.get_data().T, delimiter=',', header=header)",
   "metadata": {
    "cell_id": "679307ebde3c49728ad9b34d3bb31325",
    "tags": [],
    "deepnote_to_be_reexecuted": false,
    "source_hash": "3994f09",
    "execution_start": 1662990078609,
    "execution_millis": 663,
    "deepnote_cell_type": "code",
    "deepnote_cell_height": 226
   },
   "outputs": [
    {
     "name": "stdout",
     "text": "Extracting EDF parameters from /work/Emotiv 30s EDF/S012/S012E02.edf...\nEDF file detected\nSetting channel info structure...\nCreating raw.info structure...\n",
     "output_type": "stream"
    }
   ],
   "execution_count": null
  },
  {
   "cell_type": "code",
   "source": "file3 = \"/work/Emotiv 30s EDF/S012/S012E03.edf\"\nS012E03 = mne.io.read_raw_edf(file3)\nheader = ','.join(S012E03.ch_names)\nnp.savetxt('/work/final-concatenation/S012/Training data/S012E03.csv', S012E03.get_data().T, delimiter=',', header=header)",
   "metadata": {
    "cell_id": "4acda7e3b63745748db599fc0dffe546",
    "tags": [],
    "deepnote_to_be_reexecuted": false,
    "source_hash": "9067c0",
    "execution_start": 1662990079276,
    "execution_millis": 673,
    "deepnote_cell_type": "code",
    "deepnote_cell_height": 286
   },
   "outputs": [
    {
     "name": "stdout",
     "text": "Extracting EDF parameters from /work/Emotiv 30s EDF/S012/S012E03.edf...\nEDF file detected\nSetting channel info structure...\nCreating raw.info structure...\n/tmp/ipykernel_276/57479750.py:2: RuntimeWarning: Physical range is not defined in following channels:\nP8\n  S012E03 = mne.io.read_raw_edf(file3)\n",
     "output_type": "stream"
    }
   ],
   "execution_count": null
  },
  {
   "cell_type": "code",
   "source": "S012_Files = os.path.join(\"/work/final-concatenation/S012/Training data\", \"S012E0*.csv\")\nS012_List = glob.glob(S012_Files)\nMerge_S012 = pd.concat(map(pd.read_csv, S012_List), ignore_index=True)\nMerge_S012.to_csv(\"/work/final-concatenation/S012/Training data/S012-final-concat.csv\", index=False, encoding='utf-8-sig')",
   "metadata": {
    "cell_id": "d9dfac1257eb472f9384bb91837bea38",
    "tags": [],
    "deepnote_to_be_reexecuted": false,
    "source_hash": "29cff441",
    "execution_start": 1662990093414,
    "execution_millis": 3509,
    "deepnote_cell_type": "code",
    "deepnote_cell_height": 198
   },
   "outputs": [],
   "execution_count": null
  },
  {
   "cell_type": "markdown",
   "source": "<a style='text-decoration:none;line-height:16px;display:flex;color:#5B5B62;padding:10px;justify-content:end;' href='https://deepnote.com?utm_source=created-in-deepnote-cell&projectId=cdcd7b7a-2caf-40ce-9cca-562e2f317a32' target=\"_blank\">\n<img alt='Created in deepnote.com' style='display:inline;max-height:16px;margin:0px;margin-right:7.5px;' src='data:image/svg+xml;base64,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' > </img>\nCreated in <span style='font-weight:600;margin-left:4px;'>Deepnote</span></a>",
   "metadata": {
    "tags": [],
    "created_in_deepnote_cell": true,
    "deepnote_cell_type": "markdown"
   }
  }
 ],
 "nbformat": 4,
 "nbformat_minor": 2,
 "metadata": {
  "orig_nbformat": 2,
  "deepnote": {},
  "deepnote_notebook_id": "4e73044e-b8b8-4210-96f6-54e0b52651d1",
  "deepnote_execution_queue": []
 }
}